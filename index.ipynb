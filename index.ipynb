{
 "cells": [
  {
   "cell_type": "markdown",
   "metadata": {},
   "source": [
    "# HTTP Request/Response Cycle - Lab\n",
    "\n",
    "## Introduction \n",
    "\n",
    "In this lab, we'll make use of the `requests` module commands and properties seen in the previous lesson, to extract information for a web service called **\"Open Notify\"** to access NASA's space data. \n",
    "\n",
    "## Objectives\n",
    "\n",
    "You will be able to:\n",
    "\n",
    "* Explain the HTTP request/response cycle\n",
    "* List the status codes of responses and their meanings\n",
    "* Obtain and interpret status codes from responses\n",
    "* Make HTTP GET and POST requests in python using the `requests` library\n",
    "\n",
    "## Open Notify \n",
    "\n",
    "[Open Notify](http://open-notify.org/)  is an an open source project to provide a simple programming interface for some of NASA’s awesome data. This takes live raw data from NASA's systems and turn them into APIs related to space and spacecraft. We can access the following information from open notify. \n",
    "\n",
    "* Current Location of the International Space Station\n",
    "\n",
    "* Overhead Pass Predictions for the International Space Station\n",
    "\n",
    "* Number of People in Space\n",
    "    \n",
    "### API endpoints\n",
    "\n",
    "Open Notify has several API endpoints. \n",
    ">An endpoint is a server route that is used to retrieve different data from the API. \n",
    "\n",
    "For example, the `/comments` endpoint on the Reddit API might retrieve information about comments, whereas the `/users` endpoint might retrieve data about users. To access them, you would add the endpoint to the base url of the API.\n",
    "\n",
    "For the OpenNotify API, we have following end points \n",
    "\n",
    "1. Current Location of the International Space Station `/iss-now.json`\n",
    "2. Overhead Pass Predictions for the International Space Station `/iss-pass.json`    \n",
    "3. Number of People in Space `/astros.json`\n",
    "\n",
    "The `.json` extension simply tells us that the data is being returned in a JSON format.\n",
    "\n",
    "In this lab, we'll be querying this API to retrieve live data about the International Space Station (ISS). Details on OpenNofity, endpoints, syntax, and the services it offers can be viewed [Here](http://open-notify.org/Open-Notify-API/)\n",
    "\n",
    "![](images/iss.jpg)\n",
    "\n",
    "### Current location of International Space Station\n",
    "\n",
    "The first endpoint we'll look at on Open Notify is the ` iss-now.json` endpoint (current location of international space station). This endpoint gets the current latitude and longitude of the International Space Station.  Perform the following tasks \n",
    "* Make a get request to get the latest position of the international space station from the opennotify api's `iss-now` endpoint at http://api.open-notify.org/iss-now.json\n",
    "* Check the status code of the response\n",
    "* Interpret the returned code"
   ]
  },
  {
   "cell_type": "code",
   "execution_count": 1,
   "metadata": {},
   "outputs": [],
   "source": [
    "# Your Code Here\n",
    "import requests"
   ]
  },
  {
   "cell_type": "code",
   "execution_count": 2,
   "metadata": {},
   "outputs": [],
   "source": [
    "resp = requests.get('http://api.open-notify.org/iss-now.json')"
   ]
  },
  {
   "cell_type": "code",
   "execution_count": 4,
   "metadata": {},
   "outputs": [
    {
     "data": {
      "text/plain": [
       "True"
      ]
     },
     "execution_count": 4,
     "metadata": {},
     "output_type": "execute_result"
    }
   ],
   "source": [
    "resp.status_code == requests.codes.ok"
   ]
  },
  {
   "cell_type": "code",
   "execution_count": 6,
   "metadata": {},
   "outputs": [
    {
     "data": {
      "text/plain": [
       "{'Server': 'nginx/1.10.3',\n",
       " 'Date': 'Wed, 11 Dec 2019 23:38:51 GMT',\n",
       " 'Content-Type': 'application/json',\n",
       " 'Content-Length': '113',\n",
       " 'Connection': 'keep-alive',\n",
       " 'access-control-allow-origin': '*'}"
      ]
     },
     "execution_count": 6,
     "metadata": {},
     "output_type": "execute_result"
    }
   ],
   "source": [
    "dict(resp.headers)"
   ]
  },
  {
   "cell_type": "code",
   "execution_count": 7,
   "metadata": {},
   "outputs": [
    {
     "data": {
      "text/plain": [
       "200"
      ]
     },
     "execution_count": 7,
     "metadata": {},
     "output_type": "execute_result"
    }
   ],
   "source": [
    "resp.status_code"
   ]
  },
  {
   "cell_type": "code",
   "execution_count": 5,
   "metadata": {},
   "outputs": [
    {
     "name": "stdout",
     "output_type": "stream",
     "text": [
      "{\"message\": \"success\", \"timestamp\": 1576107530, \"iss_position\": {\"longitude\": \"79.1020\", \"latitude\": \"-42.0737\"}}\n"
     ]
    }
   ],
   "source": [
    "print (resp.text)"
   ]
  },
  {
   "cell_type": "code",
   "execution_count": 2,
   "metadata": {},
   "outputs": [],
   "source": [
    "# Your comments - those are the coordinates, wherever that is. \n",
    "# {\"longitude\": \"79.1020\", \"latitude\": \"-42.0737\"}"
   ]
  },
  {
   "cell_type": "markdown",
   "metadata": {},
   "source": [
    "* Print the contents of the response and identify its current location"
   ]
  },
  {
   "cell_type": "code",
   "execution_count": 4,
   "metadata": {},
   "outputs": [],
   "source": [
    "# Interpret your results using the API\n"
   ]
  },
  {
   "cell_type": "markdown",
   "metadata": {},
   "source": [
    "### Check the next pass of International space station for a given location\n",
    "\n",
    "Let's repeat the above for the second endpoint `iss-pass.json`. This end point is used to query the next pass of the space station on a given location. Let's just run as above and record your observations."
   ]
  },
  {
   "cell_type": "code",
   "execution_count": 19,
   "metadata": {},
   "outputs": [],
   "source": [
    "# Your Code Here\n",
    "response = requests.get(\"http://api.open-notify.org/iss-pass.json\")"
   ]
  },
  {
   "cell_type": "code",
   "execution_count": 21,
   "metadata": {},
   "outputs": [
    {
     "name": "stdout",
     "output_type": "stream",
     "text": [
      "400\n"
     ]
    }
   ],
   "source": [
    "print(response.status_code)\n"
   ]
  },
  {
   "cell_type": "code",
   "execution_count": 6,
   "metadata": {},
   "outputs": [],
   "source": [
    "# Your comments \n",
    "# no clue what 400 means"
   ]
  },
  {
   "cell_type": "markdown",
   "metadata": {},
   "source": [
    "So clearly there is something wrong as we had a 400 response. This is how you should always test your responses for validity. \n",
    "\n",
    "If we look at the documentation for the Open Notify API, we see that the ISS Pass endpoint requires two parameters.\n",
    "\n",
    "> The ISS Pass endpoint returns when the ISS will next pass over a given location on earth. In order to compute this, we need to pass the coordinates of the location to the API. We do this by passing two parameters -- latitude and longitude.\n",
    "\n",
    "We can do this by adding an optional keyword argument, `params`, to our request. In this case, there are two parameters we need to pass:\n",
    "\n",
    "* `lat` -- The latitude of the location we want.\n",
    "* `lon` -- The longitude of the location we want.\n",
    "\n",
    "Perform the following tasks :\n",
    "* Set parameters to reflect the lat and long of New York  (40.71, -74)\n",
    "* Send a get request to Open Notify passing in the lat long parameters as k:v pairs in a dictionary\n",
    "* Check the status code and interpret\n",
    "* Print the header information and the returned content"
   ]
  },
  {
   "cell_type": "code",
   "execution_count": 23,
   "metadata": {},
   "outputs": [],
   "source": [
    "# Your Code Here\n",
    "credentials = {'lat': 40.71, 'lon': -74}  \n",
    "response = requests.get(\"http://api.open-notify.org/iss-pass.json\", params=credentials)  "
   ]
  },
  {
   "cell_type": "code",
   "execution_count": 24,
   "metadata": {},
   "outputs": [
    {
     "name": "stdout",
     "output_type": "stream",
     "text": [
      "200\n"
     ]
    }
   ],
   "source": [
    "print(response.status_code)\n"
   ]
  },
  {
   "cell_type": "code",
   "execution_count": 28,
   "metadata": {},
   "outputs": [
    {
     "name": "stdout",
     "output_type": "stream",
     "text": [
      "200\n",
      "{'Server': 'nginx/1.10.3', 'Date': 'Wed, 11 Dec 2019 23:56:51 GMT', 'Content-Type': 'application/json', 'Content-Length': '452', 'Connection': 'keep-alive', 'Via': '1.1 vegur'}\n",
      "{\n",
      "  \"message\": \"success\", \n",
      "  \"request\": {\n",
      "    \"altitude\": 100, \n",
      "    \"datetime\": 1576108597, \n",
      "    \"latitude\": 40.71, \n",
      "    \"longitude\": -74.0, \n",
      "    \"passes\": 5\n",
      "  }, \n",
      "  \"response\": [\n",
      "    {\n",
      "      \"duration\": 533, \n",
      "      \"risetime\": 1576158977\n",
      "    }, \n",
      "    {\n",
      "      \"duration\": 648, \n",
      "      \"risetime\": 1576164698\n",
      "    }, \n",
      "    {\n",
      "      \"duration\": 591, \n",
      "      \"risetime\": 1576170557\n",
      "    }, \n",
      "    {\n",
      "      \"duration\": 557, \n",
      "      \"risetime\": 1576176439\n",
      "    }\n",
      "  ]\n",
      "}\n",
      "\n"
     ]
    }
   ],
   "source": [
    "# Check the API and interpret your results - when will ISS pass over NEW York next ?\n",
    "print(response.status_code)\n",
    "\n",
    "# Print the content of the response (the data the server returned)\n",
    "print(dict(response.headers))\n",
    "print(response.text)"
   ]
  },
  {
   "cell_type": "markdown",
   "metadata": {},
   "source": [
    "### Finding the number of people in space\n",
    "\n",
    "Open Notify has one more API endpoint, `/astros.json`. It tells you how many people are currently in space. The format of the responses can be studied [HERE](http://open-notify.org/Open-Notify-API/People-In-Space/).\n",
    "\n",
    "Read the above documentation and perform the following tasks:\n",
    "\n",
    "* Get the response from astros.json endpoint\n",
    "* Count how many people are currently in space\n",
    "* List the names of people currently in space."
   ]
  },
  {
   "cell_type": "code",
   "execution_count": 29,
   "metadata": {},
   "outputs": [
    {
     "data": {
      "text/plain": [
       "200"
      ]
     },
     "execution_count": 29,
     "metadata": {},
     "output_type": "execute_result"
    }
   ],
   "source": [
    "# Your Code Here\n",
    "response = requests.get('http://api.open-notify.org/astros.json')\n",
    "response.status_code"
   ]
  },
  {
   "cell_type": "code",
   "execution_count": 33,
   "metadata": {},
   "outputs": [
    {
     "data": {
      "text/plain": [
       "{'people': [{'name': 'Christina Koch', 'craft': 'ISS'},\n",
       "  {'name': 'Alexander Skvortsov', 'craft': 'ISS'},\n",
       "  {'name': 'Luca Parmitano', 'craft': 'ISS'},\n",
       "  {'name': 'Andrew Morgan', 'craft': 'ISS'},\n",
       "  {'name': 'Oleg Skripochka', 'craft': 'ISS'},\n",
       "  {'name': 'Jessica Meir', 'craft': 'ISS'}],\n",
       " 'number': 6,\n",
       " 'message': 'success'}"
      ]
     },
     "execution_count": 33,
     "metadata": {},
     "output_type": "execute_result"
    }
   ],
   "source": [
    "data = response.json()\n",
    "data"
   ]
  },
  {
   "cell_type": "code",
   "execution_count": 34,
   "metadata": {},
   "outputs": [
    {
     "name": "stdout",
     "output_type": "stream",
     "text": [
      "6\n",
      "{'people': [{'name': 'Christina Koch', 'craft': 'ISS'}, {'name': 'Alexander Skvortsov', 'craft': 'ISS'}, {'name': 'Luca Parmitano', 'craft': 'ISS'}, {'name': 'Andrew Morgan', 'craft': 'ISS'}, {'name': 'Oleg Skripochka', 'craft': 'ISS'}, {'name': 'Jessica Meir', 'craft': 'ISS'}], 'number': 6, 'message': 'success'}\n"
     ]
    }
   ],
   "source": [
    "# 6 people are currently in space.\n",
    "print(data[\"number\"])\n",
    "print(dict(data))"
   ]
  },
  {
   "cell_type": "code",
   "execution_count": 10,
   "metadata": {},
   "outputs": [],
   "source": [
    "# Interpret the Results - How many people are in space and what are their names "
   ]
  },
  {
   "cell_type": "markdown",
   "metadata": {},
   "source": [
    "## Summary \n",
    "\n",
    "In this lesson, we saw how we can use request and response methods to query an Open API. We also saw how to look at the contents returned with the API calls and how to parse them. Next, we'll look at connecting to APIs which are not OPEN, i.e. we would need to pass in some authentication information and filter the results. "
   ]
  }
 ],
 "metadata": {
  "kernelspec": {
   "display_name": "Python 3",
   "language": "python",
   "name": "python3"
  },
  "language_info": {
   "codemirror_mode": {
    "name": "ipython",
    "version": 3
   },
   "file_extension": ".py",
   "mimetype": "text/x-python",
   "name": "python",
   "nbconvert_exporter": "python",
   "pygments_lexer": "ipython3",
   "version": "3.6.9"
  },
  "toc": {
   "base_numbering": 1,
   "nav_menu": {},
   "number_sections": true,
   "sideBar": true,
   "skip_h1_title": false,
   "title_cell": "Table of Contents",
   "title_sidebar": "Contents",
   "toc_cell": false,
   "toc_position": {},
   "toc_section_display": true,
   "toc_window_display": false
  },
  "varInspector": {
   "cols": {
    "lenName": 16,
    "lenType": 16,
    "lenVar": 40
   },
   "kernels_config": {
    "python": {
     "delete_cmd_postfix": "",
     "delete_cmd_prefix": "del ",
     "library": "var_list.py",
     "varRefreshCmd": "print(var_dic_list())"
    },
    "r": {
     "delete_cmd_postfix": ") ",
     "delete_cmd_prefix": "rm(",
     "library": "var_list.r",
     "varRefreshCmd": "cat(var_dic_list()) "
    }
   },
   "types_to_exclude": [
    "module",
    "function",
    "builtin_function_or_method",
    "instance",
    "_Feature"
   ],
   "window_display": false
  }
 },
 "nbformat": 4,
 "nbformat_minor": 2
}
